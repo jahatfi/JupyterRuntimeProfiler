{
 "cells": [
  {
   "cell_type": "code",
   "execution_count": null,
   "id": "97dcbf6e",
   "metadata": {
    "scrolled": true
   },
   "outputs": [],
   "source": [
    "from time import time\n",
    "import matplotlib.pyplot as plt; plt.rcdefaults()\n",
    "import numpy as np\n",
    "import matplotlib.pyplot as plt\n",
    "\n",
    "import logging\n",
    "\n",
    "logger = logging.getLogger()\n",
    "logger.setLevel(logging.INFO)\n",
    "class TimeTook(object):\n",
    "    \"\"\"\n",
    "    Calculates the time a block took to run.\n",
    "    Example usage:\n",
    "    with TimeTook(\"sample\"):\n",
    "        s = [x for x in range(10000000)]\n",
    "    Modified from: https://blog.usejournal.com/how-to-create-your-own-timing-context-manager-in-python-a0e944b48cf8\n",
    "    \"\"\"\n",
    "    _descriptions = []\n",
    "    _runtimes = []\n",
    "    \n",
    "    def __init__(self, description, done=False):\n",
    "        self.description = description\n",
    "        self.done = done\n",
    "\n",
    "    def __enter__(self):\n",
    "        self.start = time()\n",
    "\n",
    "    def __exit__(self, type, value, traceback):\n",
    "        self.end = time()\n",
    "        runtime = self.end - self.start\n",
    "        self._descriptions.append(self.description)\n",
    "        self._runtimes.append(runtime)\n",
    "        \n",
    "        logging.info(f\"Time took for {self.description}: {runtime}\")\n",
    "        if self.done:\n",
    "            #print(self._records)\n",
    "            y_pos = np.arange(len(self._descriptions))\n",
    "            self._runtimes, self._descriptions = zip(*sorted(zip(self._runtimes, self._descriptions)))      \n",
    "            xlabel = \"Time\"\n",
    "\n",
    "            if self._runtimes[-1] > self._runtimes[0] * 10:\n",
    "                log = True\n",
    "                xlabel += \" (Log Scale)\"\n",
    "            else:\n",
    "                log = False\n",
    "            plt.barh(self._descriptions, self._runtimes, align='center', alpha=0.5, log=log)\n",
    "            plt.yticks(y_pos, [desc+'\\n'+str(round(rt,2))+' s' for desc, rt in zip(self._descriptions, self._runtimes)])\n",
    "            plt.xlabel(xlabel)\n",
    "            plt.title('Run Time Per Measured Section')\n",
    "\n",
    "            plt.show()            \n"
   ]
  },
  {
   "cell_type": "code",
   "execution_count": null,
   "id": "3b93dff6",
   "metadata": {
    "scrolled": true
   },
   "outputs": [],
   "source": [
    "with TimeTook(\"sample1\"):\n",
    "    s = [x for x in range(1000000)]\n",
    "    \n",
    "with TimeTook(\"sample2\"):\n",
    "    s = [x for x in range(150000000)]    \n",
    "    \n",
    "with TimeTook(\"sample3\"):\n",
    "    s = [x for x in range(2000000)]    \n",
    "    \n",
    "with TimeTook(\"sample4\", True):\n",
    "    s = [x for x in range(10000000)]       \n",
    "    \n",
    "    \n",
    "#logging.info(\"Hello\")"
   ]
  },
  {
   "cell_type": "code",
   "execution_count": null,
   "id": "158a4ad4",
   "metadata": {},
   "outputs": [],
   "source": []
  }
 ],
 "metadata": {
  "kernelspec": {
   "display_name": "Python 3",
   "language": "python",
   "name": "python3"
  },
  "language_info": {
   "codemirror_mode": {
    "name": "ipython",
    "version": 3
   },
   "file_extension": ".py",
   "mimetype": "text/x-python",
   "name": "python",
   "nbconvert_exporter": "python",
   "pygments_lexer": "ipython3",
   "version": "3.8.3"
  }
 },
 "nbformat": 4,
 "nbformat_minor": 5
}
